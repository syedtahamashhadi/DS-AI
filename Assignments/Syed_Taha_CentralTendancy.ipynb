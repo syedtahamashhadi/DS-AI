{
 "cells": [
  {
   "cell_type": "code",
   "execution_count": 39,
   "metadata": {},
   "outputs": [],
   "source": [
    "import math\n",
    "class CentralTendancy():\n",
    "    def __init__(self,arrOfValues):\n",
    "        self.data = arrOfValues\n",
    "    \n",
    "    def __calcFrequency(self,data):\n",
    "        sortedData = sorted(data)\n",
    "        accurance={}\n",
    "        for idx,val in enumerate(sortedData):\n",
    "            count = 1\n",
    "            for x in sortedData[idx+1:]:\n",
    "                if val==x :\n",
    "                    count=count+1\n",
    "            if val not in accurance.keys():\n",
    "                accurance[val]=count\n",
    "        return accurance\n",
    "    \n",
    "    def getMean(self):\n",
    "        return sum(self.data)/len(self.data)\n",
    "    def getMedian(self):\n",
    "        sortedData = sorted(self.data)\n",
    "        return sortedData[round(len(sortedData)/2)] if len(sortedData)%2 != 0 else (sortedData[round(len(sortedData)/2)]+sortedData[round(len(sortedData)/2)-1])/2\n",
    "    def getMode(self):\n",
    "        getFrequency = self.__calcFrequency(self.data)\n",
    "        x=[num for num ,freq in getFrequency.items() if freq == max(list(getFrequency.values()))]\n",
    "        return 'No Mode' if len(self.data) == len(x) else x[0] if len(x)<2 else x\n",
    "    def getVariance(self):\n",
    "        return sum([(x-self.getMean())**2 for x in self.data])/len(self.data)\n",
    "    def getStatndardDeviation(self):\n",
    "        return round(math.sqrt(self.getVariance()))\n",
    "        "
   ]
  },
  {
   "cell_type": "code",
   "execution_count": 45,
   "metadata": {},
   "outputs": [],
   "source": [
    "newData = CentralTendancy([6,8,5,8,10,2,6,13,1])"
   ]
  },
  {
   "cell_type": "code",
   "execution_count": 46,
   "metadata": {},
   "outputs": [
    {
     "data": {
      "text/plain": [
       "6.555555555555555"
      ]
     },
     "execution_count": 46,
     "metadata": {},
     "output_type": "execute_result"
    }
   ],
   "source": [
    "newData.getMean()"
   ]
  },
  {
   "cell_type": "code",
   "execution_count": 47,
   "metadata": {},
   "outputs": [
    {
     "data": {
      "text/plain": [
       "6"
      ]
     },
     "execution_count": 47,
     "metadata": {},
     "output_type": "execute_result"
    }
   ],
   "source": [
    "newData.getMedian()"
   ]
  },
  {
   "cell_type": "code",
   "execution_count": 48,
   "metadata": {},
   "outputs": [
    {
     "data": {
      "text/plain": [
       "[6, 8]"
      ]
     },
     "execution_count": 48,
     "metadata": {},
     "output_type": "execute_result"
    }
   ],
   "source": [
    "newData.getMode()"
   ]
  },
  {
   "cell_type": "code",
   "execution_count": 49,
   "metadata": {},
   "outputs": [
    {
     "data": {
      "text/plain": [
       "12.469135802469136"
      ]
     },
     "execution_count": 49,
     "metadata": {},
     "output_type": "execute_result"
    }
   ],
   "source": [
    "newData.getVariance()"
   ]
  },
  {
   "cell_type": "code",
   "execution_count": 50,
   "metadata": {},
   "outputs": [
    {
     "data": {
      "text/plain": [
       "4"
      ]
     },
     "execution_count": 50,
     "metadata": {},
     "output_type": "execute_result"
    }
   ],
   "source": [
    "newData.getStatndardDeviation()"
   ]
  },
  {
   "cell_type": "code",
   "execution_count": null,
   "metadata": {},
   "outputs": [],
   "source": []
  }
 ],
 "metadata": {
  "kernelspec": {
   "display_name": "Python 3",
   "language": "python",
   "name": "python3"
  },
  "language_info": {
   "codemirror_mode": {
    "name": "ipython",
    "version": 3
   },
   "file_extension": ".py",
   "mimetype": "text/x-python",
   "name": "python",
   "nbconvert_exporter": "python",
   "pygments_lexer": "ipython3",
   "version": "3.8.5"
  }
 },
 "nbformat": 4,
 "nbformat_minor": 4
}
